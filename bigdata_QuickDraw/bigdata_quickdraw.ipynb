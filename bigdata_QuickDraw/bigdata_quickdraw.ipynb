{
 "cells": [
  {
   "cell_type": "code",
   "execution_count": 1,
   "metadata": {
    "ExecuteTime": {
     "end_time": "2021-01-25T11:22:43.332088Z",
     "start_time": "2021-01-25T11:22:43.319085Z"
    }
   },
   "outputs": [
    {
     "data": {
      "text/html": [
       "<script>\n",
       "code_show=true;\n",
       "function code_toggle() {\n",
       " if (code_show){\n",
       " $('div.input').hide();\n",
       " } else {\n",
       " $('div.input').show();\n",
       " }\n",
       " code_show = !code_show\n",
       "}\n",
       "$( document ).ready(code_toggle);\n",
       "</script>\n",
       "<form action=\"javascript:code_toggle()\">\n",
       "<input type=\"submit\" value=\"Click here to toggle on/off the raw code.\">\n",
       "</form>"
      ],
      "text/plain": [
       "<IPython.core.display.HTML object>"
      ]
     },
     "execution_count": 1,
     "metadata": {},
     "output_type": "execute_result"
    }
   ],
   "source": [
    "from IPython.display import HTML\n",
    "HTML('''<script>\n",
    "code_show=true;\n",
    "function code_toggle() {\n",
    " if (code_show){\n",
    " $('div.input').hide();\n",
    " } else {\n",
    " $('div.input').show();\n",
    " }\n",
    " code_show = !code_show\n",
    "}\n",
    "$( document ).ready(code_toggle);\n",
    "\n",
    "</script>\n",
    "<form action=\"javascript:code_toggle()\">\n",
    "<input type=\"submit\" value=\"Click here to toggle on/off the raw code.\">\n",
    "</form>''')"
   ]
  },
  {
   "cell_type": "code",
   "execution_count": 17,
   "metadata": {
    "ExecuteTime": {
     "end_time": "2021-01-25T05:30:15.195507Z",
     "start_time": "2021-01-25T05:30:15.177502Z"
    }
   },
   "outputs": [],
   "source": [
    "import numpy as np\n",
    "import pandas as pd\n",
    "import matplotlib.pyplot as plt\n",
    "import re\n",
    "\n",
    "from sklearn.ensemble import RandomForestClassifier, GradientBoostingClassifier\n",
    "from sklearn.svm import SVC\n",
    "from sklearn.model_selection import train_test_split\n",
    "from sklearn.metrics import classification_report\n",
    "\n",
    "import dask.dataframe as dd\n",
    "import dask.bag as db\n",
    "import dask.array as da\n",
    "import dask.dataframe as dd\n",
    "\n",
    "# pd.set_option('display.max_colwidth', None)\n",
    "# import warnings\n",
    "# warnings.filterwarnings(\"ignore\")\n",
    "\n",
    "\n",
    "import warnings\n",
    "from warnings import simplefilter\n",
    "from sklearn.exceptions import ConvergenceWarning\n",
    "\n",
    "from sklearn import tree\n",
    "from IPython.display import Image\n",
    "\n",
    "warnings.filterwarnings(\"ignore\", category=Warning)"
   ]
  },
  {
   "cell_type": "markdown",
   "metadata": {},
   "source": [
    "<img src=\"https://i.ibb.co/7X2sdvR/header.jpg\" alt=\"header\" border=\"0\">"
   ]
  },
  {
   "cell_type": "markdown",
   "metadata": {},
   "source": [
    "# Do the Doodle: Predicting \"Quick, Draw!\" drawings based on player's first drawing stroke\n",
    "\n",
    "EC Corro | SS Garcia | J Gonzales | CR Patalud "
   ]
  },
  {
   "cell_type": "markdown",
   "metadata": {},
   "source": [
    "<div><span style=\"background-color: #1F773B; padding-top: 100px; padding-right: 20px; padding-bottom: 50px; padding-left: 20px; color: #F2FBF5; font-size: 20px; font-weight: bold\">EXECUTIVE SUMMARY</span></div>"
   ]
  },
  {
   "cell_type": "markdown",
   "metadata": {},
   "source": [
    "**\"Quick Draw!\"** is an online game developed by Google Creative Lab that guesses the drawing as the player draws the given image. It was observed that majority of the sketches were guessed after the second stroke, but the game may need up to more than 10 strokes before being guessed correctly. It was also found that within the dataset, only 12.01% of the sketches were guessed upon completion of the first stroke. With this, this study aims to answer the question: **Can Quick, Draw! sketches be identified given only the first stroke?**. \n",
    "\n",
    "The Quick Draw! dataset used was obtained from Kaggle with size of 53.1 GB of data composed of 36 million drawings under 82 categories. \n",
    "\n",
    "Our methodology involves data preprocessing using the AWS platform and use of dask library functions, exploratory data analysis and model development. We developed two models, (1) without grouping and (2) with grouping which places those that have an f-1 score of less than 0.3 in a single group.\n",
    "\n",
    "Our results show that for without and with grouping, we obtained accuracy of 25.13% and 75.19%, This is higher than the computed 1.25xPCC of 2.11% and 68.13%. Comparing this to Quick Draws AI!'s performance in guessing sketches correctly after the first at 12.01%, our models were able to outperform this even without grouping at 25.13%.\n",
    "\n",
    "In conclusion, the model can be integrated to Quick, Draw!’s underlying neural network to improve its speed in guessing a sketch. For future studies, we recommend the following:\n",
    "1. Expand the dataset by using other categories on the original dataset.\n",
    "2. Use of different neural networks as model architectures might improve the model's performance.\n",
    "3. Aside from prediction, auto completion of sketches can be explored.\n",
    "\n",
    "This study will be valuable in the future of sketch prediction. We imagine using a single sketch as an input that would prompt possible recommendations to the user. Additionally, with the increasing use of smart phones and touch devices, this will also be useful to educators and students by speeding up the sketching process and focusing more on the lesson at hand."
   ]
  },
  {
   "cell_type": "markdown",
   "metadata": {},
   "source": [
    "<div><span style=\"background-color: #1F773B; padding-top: 100px; padding-right: 20px; padding-bottom: 50px; padding-left: 20px; color: #F2FBF5; font-size: 20px; font-weight: bold\">INTRODUCTION</span></div>"
   ]
  },
  {
   "cell_type": "markdown",
   "metadata": {},
   "source": [
    "\n",
    "The **Quick, Draw!** game is a game invented by Jonas Jongejan, Henry Rowley, Takashi Kawashima, Jongmin Kim, Nick Fox-Gieg, of the Google Creative Lab$^1$. A player is given a maximum of 20 seconds to draw an object such as apple, zebra, clock, or paper clip. The game relies on the data provided by previous players to learn more about the objects being drawn. One important feature of these sketches is the drawing stroke, which is defined as a continuous line before lifting the pen or writing material. Data on this includes the location and length of the stroke as well as the time it takes to draw the stroke.  \n",
    "\n",
    "Quick, Draw! utilizes neural networks to quickly guess the object being drawn, and players are amazed at how fast these images are being guessed, sometimes even before the 20 seconds are up, and sometimes even before the sketch is finished. While the Quick, Draw! game shows impressive results as it guesses the objects being drawn, it was found that only 13% of the sketches were guessed upon completion of the first stroke. Majority of the sketches were guessed after the second stroke but images can take up to more than 10 strokes before being guessed correctly. \n",
    "\n",
    "In this study, we aim to answer the question: **Can Quick, Draw! sketches be identified given only the first stroke?** We will explore how the algorithm can be improved to produce faster results, specifically identifying sketches given only the first drawing stroke."
   ]
  },
  {
   "cell_type": "markdown",
   "metadata": {},
   "source": [
    "<div><span style=\"background-color: #1F773B; padding-top: 100px; padding-right: 20px; padding-bottom: 50px; padding-left: 20px; color: #F2FBF5; font-size: 20px; font-weight: bold\">DATASET</span></div>"
   ]
  },
  {
   "cell_type": "markdown",
   "metadata": {},
   "source": [
    "The **Quick Draw!** dataset was obtained from Kaggle$^2$ and was developed by the Google Creative Lab, which has 55 repositories administered by a group of developers, researchers and artists to explore, study and learn from. The raw dataset is a collection of **50 million** drawings across **345 categories** contributed by players of the game. The drawings were captured via timestamped vectors, tagged with metadata including the object to be drawn, and the player's origin.\n",
    "\n",
    "### Raw Dataset\n",
    "\n",
    "The raw dataset available is in `csv` format for each category and has the following columns:\n",
    "\n",
    "|column name|Data Type|Description|\n",
    "|:--|:--|:--|\n",
    "|countrycode|String|Country Code where the drawing originated|\n",
    "|drawing|Array|Drawing array representing the drawing's stroke coordinates and time|\n",
    "|key_id|String|Unique key ID of the drawing|\n",
    "|recognized|Boolean|Boolean identification whether the drawing was successfuly recognized by the AI|\n",
    "|timestamp|Time Object|Timestamp when the object was drawn|\n",
    "|word|String|The Object Being Drawn by the Participant|\n",
    "\n",
    "<center><b>Table 1. Raw Dataset Description</b></center>\n",
    "\n",
    "\n",
    "### Dataset used\n",
    "\n",
    "From the original dataset of **227 GB** of drawings, we have a preselected dataset composed of **53.1 GB** of data under **82 categories** composed of **36 million sketches** of organic living things. This varies from different types of animals,fruits and other types of living things which can be seen below. This was stored in AWS s3 bucket:`s3://bdccdoodle/drawings_csv`"
   ]
  },
  {
   "cell_type": "markdown",
   "metadata": {},
   "source": [
    "### Preselected Doodle Dataset are Stored in an S3 bucket `s3://bdccdoodle/drawings_csv`"
   ]
  },
  {
   "cell_type": "code",
   "execution_count": 2,
   "metadata": {
    "ExecuteTime": {
     "end_time": "2021-01-25T05:18:10.553542Z",
     "start_time": "2021-01-25T05:18:08.242725Z"
    },
    "scrolled": true
   },
   "outputs": [
    {
     "name": "stdout",
     "output_type": "stream",
     "text": [
      "2021-01-23 12:10:19    0 Bytes \r\n",
      "2021-01-23 12:11:44  383.5 MiB ant.csv\r\n",
      "2021-01-23 12:11:44  464.2 MiB apple.csv\r\n",
      "2021-01-23 12:11:44  454.7 MiB arm.csv\r\n",
      "2021-01-23 12:11:46  667.4 MiB asparagus.csv\r\n",
      "2021-01-23 12:11:46  914.6 MiB banana.csv\r\n",
      "2021-01-23 12:11:44  618.5 MiB bat.csv\r\n",
      "2021-01-23 12:11:46  627.2 MiB bear.csv\r\n",
      "2021-01-23 12:11:44  579.2 MiB bee.csv\r\n",
      "2021-01-23 12:11:44  567.8 MiB bird.csv\r\n",
      "2021-01-23 12:11:46  655.9 MiB blackberry.csv\r\n",
      "2021-01-23 12:11:44  375.4 MiB blueberry.csv\r\n",
      "2021-01-23 12:11:46  873.4 MiB brain.csv\r\n",
      "2021-01-23 12:11:46  633.0 MiB broccoli.csv\r\n",
      "2021-01-23 12:11:44  550.3 MiB butterfly.csv\r\n",
      "2021-01-23 12:11:44  498.3 MiB carrot.csv\r\n",
      "2021-01-23 12:11:44  565.5 MiB cat.csv\r\n",
      "2021-01-23 12:11:46  853.5 MiB cow.csv\r\n",
      "2021-01-23 12:11:46  718.5 MiB crab.csv\r\n",
      "2021-01-23 12:11:46  740.1 MiB crocodile.csv\r\n",
      "2021-01-23 12:11:46  778.5 MiB dog.csv\r\n",
      "2021-01-23 12:11:44  535.3 MiB dolphin.csv\r\n",
      "2021-01-23 12:11:47    1.3 GiB duck.csv\r\n",
      "2021-01-23 12:11:44  288.5 MiB ear.csv\r\n",
      "2021-01-23 12:11:44  365.6 MiB elbow.csv\r\n",
      "2021-01-23 12:11:46    1.1 GiB elephant.csv\r\n",
      "2021-01-23 12:11:44  480.2 MiB eye.csv\r\n",
      "2021-01-23 12:11:46  644.6 MiB face.csv\r\n",
      "2021-01-23 12:11:44  392.6 MiB feather.csv\r\n",
      "2021-01-23 12:11:44  398.7 MiB finger.csv\r\n",
      "2021-01-23 12:11:44  621.1 MiB fish.csv\r\n",
      "2021-01-23 12:11:44  601.1 MiB flower.csv\r\n",
      "2021-01-23 12:11:46  770.9 MiB frog.csv\r\n",
      "2021-01-23 12:11:46  893.6 MiB garden.csv\r\n",
      "2021-01-23 12:11:46  636.1 MiB giraffe.csv\r\n",
      "2021-01-23 12:11:46  941.2 MiB goatee.csv\r\n",
      "2021-01-23 12:11:46  640.3 MiB grapes.csv\r\n",
      "2021-01-23 12:11:44  388.3 MiB grass.csv\r\n",
      "2021-01-23 12:11:46  690.9 MiB hedgehog.csv\r\n",
      "2021-01-23 12:11:46    1.1 GiB horse.csv\r\n",
      "2021-01-23 12:11:44  576.9 MiB house plant.csv\r\n",
      "2021-01-23 12:11:46  943.8 MiB kangaroo.csv\r\n",
      "2021-01-23 12:11:46  649.9 MiB knee.csv\r\n",
      "2021-01-23 12:11:44  442.2 MiB leaf.csv\r\n",
      "2021-01-23 12:11:44  278.8 MiB leg.csv\r\n",
      "2021-01-23 12:11:46  745.1 MiB lion.csv\r\n",
      "2021-01-23 12:11:46  870.4 MiB lobster.csv\r\n",
      "2021-01-23 12:11:46  761.5 MiB monkey.csv\r\n",
      "2021-01-23 12:11:44  465.2 MiB mosquito.csv\r\n",
      "2021-01-23 12:11:44  606.1 MiB mouse.csv\r\n",
      "2021-01-23 12:11:44  554.6 MiB moustache.csv\r\n",
      "2021-01-23 12:11:44  523.3 MiB mouth.csv\r\n",
      "2021-01-23 12:11:44  401.3 MiB nail.csv\r\n",
      "2021-01-23 12:11:44  362.4 MiB nose.csv\r\n",
      "2021-01-23 12:11:44  563.7 MiB onion.csv\r\n",
      "2021-01-23 12:11:46  955.1 MiB owl.csv\r\n",
      "2021-01-23 12:11:44  598.4 MiB palm tree.csv\r\n",
      "2021-01-23 12:11:46  696.6 MiB panda.csv\r\n",
      "2021-01-23 12:11:46  884.0 MiB parrot.csv\r\n",
      "2021-01-23 12:11:44  333.0 MiB peanut.csv\r\n",
      "2021-01-23 12:11:46  649.7 MiB peas.csv\r\n",
      "2021-01-23 12:11:47    1.2 GiB penguin.csv\r\n",
      "2021-01-23 12:11:46  937.6 MiB pig.csv\r\n",
      "2021-01-23 12:11:46  782.2 MiB rabbit.csv\r\n",
      "2021-01-23 12:11:46  783.7 MiB raccoon.csv\r\n",
      "2021-01-23 12:11:46 1003.4 MiB rhinoceros.csv\r\n",
      "2021-01-23 12:11:46  897.1 MiB scorpion.csv\r\n",
      "2021-01-23 12:11:44  622.6 MiB sea turtle.csv\r\n",
      "2021-01-23 12:11:44  604.4 MiB shark.csv\r\n",
      "2021-01-23 12:11:44  595.1 MiB sheep.csv\r\n",
      "2021-01-23 12:11:44  577.0 MiB skull.csv\r\n",
      "2021-01-23 12:11:44  613.2 MiB snail.csv\r\n",
      "2021-01-23 12:11:44  463.8 MiB snake.csv\r\n",
      "2021-01-23 12:11:46  816.6 MiB spider.csv\r\n",
      "2021-01-23 12:11:46  890.9 MiB squirrel.csv\r\n",
      "2021-01-23 12:11:44  428.9 MiB strawberry.csv\r\n",
      "2021-01-23 12:11:46  710.5 MiB swan.csv\r\n",
      "2021-01-23 12:11:46  831.7 MiB tiger.csv\r\n",
      "2021-01-23 12:11:44  490.5 MiB toe.csv\r\n",
      "2021-01-23 12:11:46  626.7 MiB tree.csv\r\n",
      "2021-01-23 12:11:44  554.4 MiB watermelon.csv\r\n",
      "2021-01-23 12:11:46  666.6 MiB whale.csv\r\n",
      "2021-01-23 12:11:46 1017.8 MiB zebra.csv\r\n",
      "\r\n",
      "Total Objects: 83\r\n",
      "   Total Size: 53.1 GiB\r\n"
     ]
    }
   ],
   "source": [
    "%%bash\n",
    "aws s3 ls s3://bdccdoodle/drawings_csv/ --human-readable --summarize "
   ]
  },
  {
   "cell_type": "markdown",
   "metadata": {},
   "source": [
    "<div><span style=\"background-color: #1F773B; padding-top: 100px; padding-right: 20px; padding-bottom: 50px; padding-left: 20px; color: #F2FBF5; font-size: 20px; font-weight: bold\">METHODOLOGY</span></div>"
   ]
  },
  {
   "cell_type": "markdown",
   "metadata": {},
   "source": [
    "Our methodology involves the following steps:\n",
    "\n",
    "\n",
    "<img src=\"https://i.ibb.co/GMc3Bj4/method-trans.png\" alt=\"method-trans\" border=\"0\">"
   ]
  },
  {
   "cell_type": "markdown",
   "metadata": {},
   "source": [
    "<center><b>Figure 1. Overall Methodology of the project.</b></center>"
   ]
  },
  {
   "cell_type": "markdown",
   "metadata": {},
   "source": [
    "## 1. Data Preprocessing"
   ]
  },
  {
   "cell_type": "markdown",
   "metadata": {},
   "source": [
    "From the preselected Doodle dataset stored in the S3 bucket, we used the dask library functions in preprocessing this big amount of data. We used the cloud thru the Amazon Web Services (AWS) platform to address the memory limitation when processing on our local computers."
   ]
  },
  {
   "cell_type": "markdown",
   "metadata": {},
   "source": [
    "In the preprocessing stage, since we are after predicting the sketch after the first stroke, we extracted only the coordinates of the first stroke of each sketch. We then separated its x and y coordinates and used these as features. We also computed and added `stroke_num` and `stroke _length` columns. All of the data precprocessing methods can be found in the `Data Preprocessing.ipynb` notebook attached. \n",
    "\n",
    "The final dataset used in this study can be found below after the data description:\n"
   ]
  },
  {
   "cell_type": "markdown",
   "metadata": {},
   "source": [
    "\n",
    "\n",
    "|column name|Data Type|Description|\n",
    "|:--|:--|:--|\n",
    "|countrycode|String|Country Code where the drawing originated|\n",
    "|recognized|Boolean|Boolean identification whether the drawing was successfuly recognized by the AI|\n",
    "|word|String|The Object Being Drawn by the Participant|\n",
    "|stroke_num|Integer|Total Number of Strokes|\n",
    "|stroke_length|Integer|Length of the first stroke extracted|\n",
    "|x_n|Integer|x coordinates of the first stroke|\n",
    "|y_n|Integer|y coordinates of the first stroke|\n",
    "\n",
    "<center><b>Table 2. Final Dataset Description.</b></center>"
   ]
  },
  {
   "cell_type": "code",
   "execution_count": 3,
   "metadata": {
    "ExecuteTime": {
     "end_time": "2021-01-25T02:46:21.755625Z",
     "start_time": "2021-01-25T02:45:59.050888Z"
    }
   },
   "outputs": [],
   "source": [
    "df2 = dd.read_csv('s3://bdcc-doodle/draw_processed_csv/draw_processed_*.csv')"
   ]
  },
  {
   "cell_type": "code",
   "execution_count": 18,
   "metadata": {
    "ExecuteTime": {
     "end_time": "2021-01-25T05:30:32.899703Z",
     "start_time": "2021-01-25T05:30:31.998500Z"
    }
   },
   "outputs": [
    {
     "data": {
      "text/html": [
       "<div>\n",
       "<style scoped>\n",
       "    .dataframe tbody tr th:only-of-type {\n",
       "        vertical-align: middle;\n",
       "    }\n",
       "\n",
       "    .dataframe tbody tr th {\n",
       "        vertical-align: top;\n",
       "    }\n",
       "\n",
       "    .dataframe thead th {\n",
       "        text-align: right;\n",
       "    }\n",
       "</style>\n",
       "<table border=\"1\" class=\"dataframe\">\n",
       "  <thead>\n",
       "    <tr style=\"text-align: right;\">\n",
       "      <th></th>\n",
       "      <th>countrycode</th>\n",
       "      <th>recognized</th>\n",
       "      <th>word</th>\n",
       "      <th>stroke_num</th>\n",
       "      <th>stroke_length</th>\n",
       "      <th>x_0</th>\n",
       "      <th>x_1</th>\n",
       "      <th>x_2</th>\n",
       "      <th>x_3</th>\n",
       "      <th>x_4</th>\n",
       "      <th>...</th>\n",
       "      <th>y_76</th>\n",
       "      <th>y_77</th>\n",
       "      <th>y_78</th>\n",
       "      <th>y_79</th>\n",
       "      <th>y_80</th>\n",
       "      <th>y_81</th>\n",
       "      <th>y_82</th>\n",
       "      <th>y_83</th>\n",
       "      <th>y_84</th>\n",
       "      <th>y_85</th>\n",
       "    </tr>\n",
       "  </thead>\n",
       "  <tbody>\n",
       "    <tr>\n",
       "      <th>0</th>\n",
       "      <td>US</td>\n",
       "      <td>1</td>\n",
       "      <td>ant</td>\n",
       "      <td>11</td>\n",
       "      <td>106</td>\n",
       "      <td>970</td>\n",
       "      <td>965</td>\n",
       "      <td>960</td>\n",
       "      <td>955</td>\n",
       "      <td>950</td>\n",
       "      <td>...</td>\n",
       "      <td>477</td>\n",
       "      <td>476</td>\n",
       "      <td>475</td>\n",
       "      <td>472</td>\n",
       "      <td>469</td>\n",
       "      <td>466</td>\n",
       "      <td>463</td>\n",
       "      <td>460</td>\n",
       "      <td>455</td>\n",
       "      <td>450</td>\n",
       "    </tr>\n",
       "    <tr>\n",
       "      <th>1</th>\n",
       "      <td>IT</td>\n",
       "      <td>0</td>\n",
       "      <td>ant</td>\n",
       "      <td>2</td>\n",
       "      <td>682</td>\n",
       "      <td>1460</td>\n",
       "      <td>1456</td>\n",
       "      <td>1453</td>\n",
       "      <td>1449</td>\n",
       "      <td>1446</td>\n",
       "      <td>...</td>\n",
       "      <td>1609</td>\n",
       "      <td>1621</td>\n",
       "      <td>1634</td>\n",
       "      <td>1643</td>\n",
       "      <td>1656</td>\n",
       "      <td>1673</td>\n",
       "      <td>1690</td>\n",
       "      <td>1707</td>\n",
       "      <td>1724</td>\n",
       "      <td>1737</td>\n",
       "    </tr>\n",
       "    <tr>\n",
       "      <th>2</th>\n",
       "      <td>US</td>\n",
       "      <td>1</td>\n",
       "      <td>ant</td>\n",
       "      <td>7</td>\n",
       "      <td>95</td>\n",
       "      <td>344</td>\n",
       "      <td>339</td>\n",
       "      <td>332</td>\n",
       "      <td>327</td>\n",
       "      <td>321</td>\n",
       "      <td>...</td>\n",
       "      <td>193</td>\n",
       "      <td>193</td>\n",
       "      <td>193</td>\n",
       "      <td>193</td>\n",
       "      <td>193</td>\n",
       "      <td>193</td>\n",
       "      <td>193</td>\n",
       "      <td>193</td>\n",
       "      <td>193</td>\n",
       "      <td>195</td>\n",
       "    </tr>\n",
       "    <tr>\n",
       "      <th>3</th>\n",
       "      <td>ID</td>\n",
       "      <td>1</td>\n",
       "      <td>ant</td>\n",
       "      <td>12</td>\n",
       "      <td>299</td>\n",
       "      <td>707</td>\n",
       "      <td>704</td>\n",
       "      <td>699</td>\n",
       "      <td>694</td>\n",
       "      <td>689</td>\n",
       "      <td>...</td>\n",
       "      <td>292</td>\n",
       "      <td>287</td>\n",
       "      <td>282</td>\n",
       "      <td>277</td>\n",
       "      <td>276</td>\n",
       "      <td>276</td>\n",
       "      <td>280</td>\n",
       "      <td>285</td>\n",
       "      <td>291</td>\n",
       "      <td>296</td>\n",
       "    </tr>\n",
       "    <tr>\n",
       "      <th>4</th>\n",
       "      <td>PT</td>\n",
       "      <td>1</td>\n",
       "      <td>ant</td>\n",
       "      <td>8</td>\n",
       "      <td>86</td>\n",
       "      <td>898</td>\n",
       "      <td>893</td>\n",
       "      <td>885</td>\n",
       "      <td>880</td>\n",
       "      <td>871</td>\n",
       "      <td>...</td>\n",
       "      <td>350</td>\n",
       "      <td>350</td>\n",
       "      <td>350</td>\n",
       "      <td>350</td>\n",
       "      <td>350</td>\n",
       "      <td>350</td>\n",
       "      <td>350</td>\n",
       "      <td>350</td>\n",
       "      <td>350</td>\n",
       "      <td>350</td>\n",
       "    </tr>\n",
       "    <tr>\n",
       "      <th>...</th>\n",
       "      <td>...</td>\n",
       "      <td>...</td>\n",
       "      <td>...</td>\n",
       "      <td>...</td>\n",
       "      <td>...</td>\n",
       "      <td>...</td>\n",
       "      <td>...</td>\n",
       "      <td>...</td>\n",
       "      <td>...</td>\n",
       "      <td>...</td>\n",
       "      <td>...</td>\n",
       "      <td>...</td>\n",
       "      <td>...</td>\n",
       "      <td>...</td>\n",
       "      <td>...</td>\n",
       "      <td>...</td>\n",
       "      <td>...</td>\n",
       "      <td>...</td>\n",
       "      <td>...</td>\n",
       "      <td>...</td>\n",
       "      <td>...</td>\n",
       "    </tr>\n",
       "    <tr>\n",
       "      <th>3853934</th>\n",
       "      <td>GB</td>\n",
       "      <td>1</td>\n",
       "      <td>zebra</td>\n",
       "      <td>6</td>\n",
       "      <td>200</td>\n",
       "      <td>369</td>\n",
       "      <td>358</td>\n",
       "      <td>352</td>\n",
       "      <td>344</td>\n",
       "      <td>339</td>\n",
       "      <td>...</td>\n",
       "      <td>385</td>\n",
       "      <td>380</td>\n",
       "      <td>372</td>\n",
       "      <td>361</td>\n",
       "      <td>352</td>\n",
       "      <td>344</td>\n",
       "      <td>336</td>\n",
       "      <td>333</td>\n",
       "      <td>338</td>\n",
       "      <td>346</td>\n",
       "    </tr>\n",
       "    <tr>\n",
       "      <th>3853935</th>\n",
       "      <td>RU</td>\n",
       "      <td>1</td>\n",
       "      <td>zebra</td>\n",
       "      <td>22</td>\n",
       "      <td>264</td>\n",
       "      <td>383</td>\n",
       "      <td>389</td>\n",
       "      <td>395</td>\n",
       "      <td>401</td>\n",
       "      <td>410</td>\n",
       "      <td>...</td>\n",
       "      <td>489</td>\n",
       "      <td>489</td>\n",
       "      <td>489</td>\n",
       "      <td>490</td>\n",
       "      <td>491</td>\n",
       "      <td>491</td>\n",
       "      <td>491</td>\n",
       "      <td>491</td>\n",
       "      <td>491</td>\n",
       "      <td>491</td>\n",
       "    </tr>\n",
       "    <tr>\n",
       "      <th>3853936</th>\n",
       "      <td>NL</td>\n",
       "      <td>0</td>\n",
       "      <td>zebra</td>\n",
       "      <td>14</td>\n",
       "      <td>262</td>\n",
       "      <td>490</td>\n",
       "      <td>485</td>\n",
       "      <td>480</td>\n",
       "      <td>473</td>\n",
       "      <td>467</td>\n",
       "      <td>...</td>\n",
       "      <td>391</td>\n",
       "      <td>401</td>\n",
       "      <td>411</td>\n",
       "      <td>419</td>\n",
       "      <td>425</td>\n",
       "      <td>434</td>\n",
       "      <td>438</td>\n",
       "      <td>438</td>\n",
       "      <td>438</td>\n",
       "      <td>438</td>\n",
       "    </tr>\n",
       "    <tr>\n",
       "      <th>3853937</th>\n",
       "      <td>US</td>\n",
       "      <td>1</td>\n",
       "      <td>zebra</td>\n",
       "      <td>7</td>\n",
       "      <td>333</td>\n",
       "      <td>296</td>\n",
       "      <td>289</td>\n",
       "      <td>284</td>\n",
       "      <td>276</td>\n",
       "      <td>268</td>\n",
       "      <td>...</td>\n",
       "      <td>483</td>\n",
       "      <td>474</td>\n",
       "      <td>462</td>\n",
       "      <td>450</td>\n",
       "      <td>436</td>\n",
       "      <td>422</td>\n",
       "      <td>407</td>\n",
       "      <td>393</td>\n",
       "      <td>378</td>\n",
       "      <td>359</td>\n",
       "    </tr>\n",
       "    <tr>\n",
       "      <th>3853938</th>\n",
       "      <td>GB</td>\n",
       "      <td>1</td>\n",
       "      <td>zebra</td>\n",
       "      <td>1</td>\n",
       "      <td>363</td>\n",
       "      <td>991</td>\n",
       "      <td>986</td>\n",
       "      <td>982</td>\n",
       "      <td>978</td>\n",
       "      <td>974</td>\n",
       "      <td>...</td>\n",
       "      <td>258</td>\n",
       "      <td>253</td>\n",
       "      <td>247</td>\n",
       "      <td>242</td>\n",
       "      <td>239</td>\n",
       "      <td>237</td>\n",
       "      <td>235</td>\n",
       "      <td>235</td>\n",
       "      <td>235</td>\n",
       "      <td>235</td>\n",
       "    </tr>\n",
       "  </tbody>\n",
       "</table>\n",
       "<p>3853939 rows × 177 columns</p>\n",
       "</div>"
      ],
      "text/plain": [
       "        countrycode  recognized   word  stroke_num  stroke_length   x_0   x_1  \\\n",
       "0                US           1    ant          11            106   970   965   \n",
       "1                IT           0    ant           2            682  1460  1456   \n",
       "2                US           1    ant           7             95   344   339   \n",
       "3                ID           1    ant          12            299   707   704   \n",
       "4                PT           1    ant           8             86   898   893   \n",
       "...             ...         ...    ...         ...            ...   ...   ...   \n",
       "3853934          GB           1  zebra           6            200   369   358   \n",
       "3853935          RU           1  zebra          22            264   383   389   \n",
       "3853936          NL           0  zebra          14            262   490   485   \n",
       "3853937          US           1  zebra           7            333   296   289   \n",
       "3853938          GB           1  zebra           1            363   991   986   \n",
       "\n",
       "          x_2   x_3   x_4  ...  y_76  y_77  y_78  y_79  y_80  y_81  y_82  \\\n",
       "0         960   955   950  ...   477   476   475   472   469   466   463   \n",
       "1        1453  1449  1446  ...  1609  1621  1634  1643  1656  1673  1690   \n",
       "2         332   327   321  ...   193   193   193   193   193   193   193   \n",
       "3         699   694   689  ...   292   287   282   277   276   276   280   \n",
       "4         885   880   871  ...   350   350   350   350   350   350   350   \n",
       "...       ...   ...   ...  ...   ...   ...   ...   ...   ...   ...   ...   \n",
       "3853934   352   344   339  ...   385   380   372   361   352   344   336   \n",
       "3853935   395   401   410  ...   489   489   489   490   491   491   491   \n",
       "3853936   480   473   467  ...   391   401   411   419   425   434   438   \n",
       "3853937   284   276   268  ...   483   474   462   450   436   422   407   \n",
       "3853938   982   978   974  ...   258   253   247   242   239   237   235   \n",
       "\n",
       "         y_83  y_84  y_85  \n",
       "0         460   455   450  \n",
       "1        1707  1724  1737  \n",
       "2         193   193   195  \n",
       "3         285   291   296  \n",
       "4         350   350   350  \n",
       "...       ...   ...   ...  \n",
       "3853934   333   338   346  \n",
       "3853935   491   491   491  \n",
       "3853936   438   438   438  \n",
       "3853937   393   378   359  \n",
       "3853938   235   235   235  \n",
       "\n",
       "[3853939 rows x 177 columns]"
      ]
     },
     "execution_count": 18,
     "metadata": {},
     "output_type": "execute_result"
    }
   ],
   "source": [
    "df = df2.compute()\n",
    "df"
   ]
  },
  {
   "cell_type": "markdown",
   "metadata": {},
   "source": [
    "## 2. Exploratory Data Analysis"
   ]
  },
  {
   "cell_type": "markdown",
   "metadata": {},
   "source": [
    "### Recognized Drawings based on first stroke\n",
    "\n",
    "We determined the number of successfully recognized drawings based on the first stroke in the dataset. It was found that only **12.01%** of the total drawings were identified correctly after the first stroke. "
   ]
  },
  {
   "cell_type": "code",
   "execution_count": 5,
   "metadata": {
    "ExecuteTime": {
     "end_time": "2021-01-25T04:49:26.083509Z",
     "start_time": "2021-01-25T04:49:13.321213Z"
    }
   },
   "outputs": [],
   "source": [
    "df1 = dd.read_csv('s3://bdccdoodle/drawings_csv/*.csv', \n",
    "                  error_bad_lines=False,\n",
    "                  storage_options={'anon':True}, \n",
    "                  dtype={'drawing': 'object'})\n",
    "\n",
    "#Getting the number of strokes\n",
    "def get_num_strokes(data):\n",
    "    \"\"\"Return num_strokes set of stroke elements x, y, t coordinates in string\n",
    "    format.\n",
    "    \"\"\"\n",
    "    data = data[1:-1]\n",
    "    x = data.split(']], ')\n",
    "    x[-1] = x[-1][:-2]\n",
    "    x = [st + ']]' for st in x]  \n",
    "    return len(x)\n",
    "\n",
    "df1['stroke_num'] = df1.drawing.apply(lambda x: get_num_strokes(x))"
   ]
  },
  {
   "cell_type": "code",
   "execution_count": 8,
   "metadata": {
    "ExecuteTime": {
     "end_time": "2021-01-25T04:24:49.647506Z",
     "start_time": "2021-01-25T04:24:49.616498Z"
    }
   },
   "outputs": [
    {
     "data": {
      "text/plain": [
       "Dask Series Structure:\n",
       "npartitions=1\n",
       "    int64\n",
       "      ...\n",
       "Name: stroke_num, dtype: int64\n",
       "Dask Name: value-counts-agg, 8532 tasks"
      ]
     },
     "execution_count": 8,
     "metadata": {},
     "output_type": "execute_result"
    }
   ],
   "source": [
    "df1[df1.recognized==True].stroke_num.value_counts()"
   ]
  },
  {
   "cell_type": "code",
   "execution_count": 9,
   "metadata": {
    "ExecuteTime": {
     "end_time": "2021-01-25T04:24:49.663509Z",
     "start_time": "2021-01-25T04:24:49.649506Z"
    }
   },
   "outputs": [
    {
     "data": {
      "text/plain": [
       "Dask Series Structure:\n",
       "npartitions=1\n",
       "    int64\n",
       "      ...\n",
       "Name: stroke_num, dtype: int64\n",
       "Dask Name: value-counts-agg, 5733 tasks"
      ]
     },
     "execution_count": 9,
     "metadata": {},
     "output_type": "execute_result"
    }
   ],
   "source": [
    "df1.stroke_num.value_counts() #.compute()"
   ]
  },
  {
   "cell_type": "code",
   "execution_count": 8,
   "metadata": {
    "ExecuteTime": {
     "end_time": "2021-01-25T02:05:51.962385Z",
     "start_time": "2021-01-25T02:05:51.945381Z"
    }
   },
   "outputs": [],
   "source": [
    "df['stroke_num'] = df.drawing.apply(lambda x: get_num_strokes(x))"
   ]
  },
  {
   "cell_type": "code",
   "execution_count": 17,
   "metadata": {
    "ExecuteTime": {
     "end_time": "2021-01-25T05:08:51.247505Z",
     "start_time": "2021-01-25T05:08:51.240503Z"
    }
   },
   "outputs": [
    {
     "data": {
      "text/plain": [
       "2       1439292\n",
       "1       1326364\n",
       "3       1277968\n",
       "4       1091552\n",
       "5       1053631\n",
       "         ...   \n",
       "93            1\n",
       "89            1\n",
       "88            1\n",
       "86            1\n",
       "1847          1\n",
       "Name: stroke_num, Length: 117, dtype: int64"
      ]
     },
     "execution_count": 17,
     "metadata": {},
     "output_type": "execute_result"
    }
   ],
   "source": [
    "recog = df[df.recognized==True].stroke_num.value_counts().compute()\n",
    "recog"
   ]
  },
  {
   "cell_type": "code",
   "execution_count": 18,
   "metadata": {
    "ExecuteTime": {
     "end_time": "2021-01-25T05:09:00.764506Z",
     "start_time": "2021-01-25T05:09:00.757504Z"
    },
    "scrolled": true
   },
   "outputs": [
    {
     "data": {
      "text/plain": [
       "11047682"
      ]
     },
     "execution_count": 18,
     "metadata": {},
     "output_type": "execute_result"
    }
   ],
   "source": [
    "recog.sum()"
   ]
  },
  {
   "cell_type": "code",
   "execution_count": 62,
   "metadata": {
    "ExecuteTime": {
     "end_time": "2021-01-25T06:07:05.958510Z",
     "start_time": "2021-01-25T06:07:05.940506Z"
    },
    "scrolled": true
   },
   "outputs": [
    {
     "name": "stdout",
     "output_type": "stream",
     "text": [
      "The percentage of drawings that were correctly identifiedon the first stroke is : 12.01%\n"
     ]
    }
   ],
   "source": [
    "#Percentage of drawings that were correctly identified on the first stroke\n",
    "percent_stroke1 = 1326364/recog.sum() * 100\n",
    "print(\"The percentage of drawings that were correctly identified\" \n",
    "      \"on the first stroke is : %.2f%%\" % round(percent_stroke1, 2))"
   ]
  },
  {
   "cell_type": "markdown",
   "metadata": {},
   "source": [
    "### Number of Recognized Drawings by the Quick, Draw! AI\n",
    "\n",
    "Not all of the sketches were recognized by the Quick, Draw AI. Thus, from our dataset, we compared the number of sketches that wer recognized and not recognized by the Quick, Draw! AI game."
   ]
  },
  {
   "cell_type": "code",
   "execution_count": 6,
   "metadata": {
    "ExecuteTime": {
     "end_time": "2021-01-25T03:55:26.454670Z",
     "start_time": "2021-01-25T03:55:26.268504Z"
    }
   },
   "outputs": [
    {
     "data": {
      "text/plain": [
       "<AxesSubplot:>"
      ]
     },
     "execution_count": 6,
     "metadata": {},
     "output_type": "execute_result"
    },
    {
     "data": {
      "image/png": "[encoded data removed]",
      "text/plain": [
       "<Figure size 720x360 with 1 Axes>"
      ]
     },
     "metadata": {
      "needs_background": "light"
     },
     "output_type": "display_data"
    }
   ],
   "source": [
    "df.recognized.value_counts().plot(kind='bar', figsize=(10,5),  fontsize=20)"
   ]
  },
  {
   "cell_type": "markdown",
   "metadata": {},
   "source": [
    "<center><b>Figure 3. Distribution of Recognized Drawings by the Quick, Draw! AI.</b></center>"
   ]
  },
  {
   "cell_type": "markdown",
   "metadata": {},
   "source": [
    "### Visualizing the Sketches"
   ]
  },
  {
   "cell_type": "markdown",
   "metadata": {},
   "source": [
    "To further imagine what the sketches look like, we used the `draw_strokes` function to visualize the sketch. See an example  of a `frog` sketch as shown in Figure 4. The shown sketches are the first stroke of three different sketches of a frog."
   ]
  },
  {
   "cell_type": "code",
   "execution_count": 41,
   "metadata": {
    "ExecuteTime": {
     "end_time": "2021-01-25T05:38:23.998433Z",
     "start_time": "2021-01-25T05:38:23.988430Z"
    }
   },
   "outputs": [],
   "source": [
    "def draw_strokes(data, item=None, count=20):\n",
    "    \"\"\"Plot drawings.\"\"\"\n",
    "    \n",
    "    data = data.reset_index(drop=True)\n",
    "    plt.figure(figsize=(30,10))\n",
    "    \n",
    "    if item:\n",
    "        for idx in list(data[data.word==item].index)[:count]:\n",
    "            x = data.iloc[idx, 5: 90].values\n",
    "            y = data.iloc[idx, 90:175].values\n",
    "            plt.plot(x, y)\n",
    "    else:\n",
    "        for idx in list(data.index[:count])[:count]:\n",
    "            x = data.iloc[idx, 5: 90].values\n",
    "            y = data.iloc[idx, 90:175].values\n",
    "            plt.plot(x, y)\n",
    "            \n",
    "    plt.title(item, fontsize=20)\n",
    "    plt.show()\n",
    "        \n",
    "    return None"
   ]
  },
  {
   "cell_type": "code",
   "execution_count": 42,
   "metadata": {
    "ExecuteTime": {
     "end_time": "2021-01-25T05:38:29.825797Z",
     "start_time": "2021-01-25T05:38:28.106408Z"
    }
   },
   "outputs": [
    {
     "data": {
      "image/png": "[encoded data removed]",
      "text/plain": [
       "<Figure size 2160x720 with 1 Axes>"
      ]
     },
     "metadata": {
      "needs_background": "light"
     },
     "output_type": "display_data"
    }
   ],
   "source": [
    "draw_strokes(df, item=\"frog\", count=3)"
   ]
  },
  {
   "cell_type": "markdown",
   "metadata": {},
   "source": [
    "<center><b>Figure 4. Sample sketches of the game.</b></center>"
   ]
  },
  {
   "cell_type": "markdown",
   "metadata": {},
   "source": [
    "## 3. Sketch Prediction"
   ]
  },
  {
   "cell_type": "markdown",
   "metadata": {},
   "source": [
    "This is where we develop a classification model for predicting the sketch based on the first stroke. This was done by using the `validate_clf` function to obtain classification model results. Our target variable was the `word` column and the rest were used features.  We used a 75-25 train-test split on the Random Forest Classifier Model as it is most efficient model to train this dataset."
   ]
  },
  {
   "cell_type": "code",
   "execution_count": 44,
   "metadata": {
    "ExecuteTime": {
     "end_time": "2021-01-25T05:40:55.182499Z",
     "start_time": "2021-01-25T05:40:55.172497Z"
    }
   },
   "outputs": [],
   "source": [
    "def validate_clf(data, model, df_eval):\n",
    "    \"\"\"Return classification model evaluation results.\"\"\"\n",
    "    X_train, X_test, y_train, y_test = train_test_split(data.iloc[:,5:],\n",
    "                                                        data.word,\n",
    "                                                        random_state = 42,\n",
    "                                                        test_size = 0.25)\n",
    "    model.fit(X_train, y_train)\n",
    "    new_index = len(df_eval)\n",
    "    df_eval.loc[new_index] = ['Random Forest Classifier',\n",
    "                              model.get_params(),\n",
    "                              model.score(X_train, y_train),\n",
    "                              model.score(X_test, y_test)]\n",
    "    display(df_eval)\n",
    "    print()\n",
    "    print(classification_report(y_true=y_test,\n",
    "                                y_pred=model.predict(X_test),\n",
    "                                output_dict=False))\n",
    "    \n",
    "    return (df_eval, classification_report(y_true=y_test,\n",
    "                                y_pred=model.predict(X_test),\n",
    "                                output_dict=True))\n",
    "\n",
    "\n",
    "def draw_strokes(data):\n",
    "    \"\"\"Plot drawings.\"\"\"\n",
    "    for idx in list(data.index):\n",
    "        x = data.iloc[idx, 2:152].values\n",
    "        y = data.iloc[idx, 152:302].values\n",
    "\n",
    "        plt.plot(x, y)\n",
    "    plt.show()\n",
    "        \n",
    "    return None"
   ]
  },
  {
   "cell_type": "code",
   "execution_count": 45,
   "metadata": {
    "ExecuteTime": {
     "end_time": "2021-01-25T05:41:09.958504Z",
     "start_time": "2021-01-25T05:41:09.939500Z"
    }
   },
   "outputs": [],
   "source": [
    "# Run this to rest dataframe\n",
    "cols = ['Classification Method',\n",
    "        'Parameters',\n",
    "        'Train Accuracy', \n",
    "        'Test Accuracy']\n",
    "df_eval = pd.DataFrame(columns=cols)"
   ]
  },
  {
   "cell_type": "markdown",
   "metadata": {},
   "source": [
    "To evaluate the model's performance, precision, recall and f-1 score were determined. After hyperparameter tuning our models parameters, we obtained model accuracy of $25.13\\%$. This is a relatively good accuracy given that we are dealing with $81$ classes where each of the first stroke sketches belong to."
   ]
  },
  {
   "cell_type": "code",
   "execution_count": 46,
   "metadata": {
    "ExecuteTime": {
     "end_time": "2021-01-25T05:52:47.707345Z",
     "start_time": "2021-01-25T05:41:32.073502Z"
    }
   },
   "outputs": [
    {
     "data": {
      "text/html": [
       "<div>\n",
       "<style scoped>\n",
       "    .dataframe tbody tr th:only-of-type {\n",
       "        vertical-align: middle;\n",
       "    }\n",
       "\n",
       "    .dataframe tbody tr th {\n",
       "        vertical-align: top;\n",
       "    }\n",
       "\n",
       "    .dataframe thead th {\n",
       "        text-align: right;\n",
       "    }\n",
       "</style>\n",
       "<table border=\"1\" class=\"dataframe\">\n",
       "  <thead>\n",
       "    <tr style=\"text-align: right;\">\n",
       "      <th></th>\n",
       "      <th>Classification Method</th>\n",
       "      <th>Parameters</th>\n",
       "      <th>Train Accuracy</th>\n",
       "      <th>Test Accuracy</th>\n",
       "    </tr>\n",
       "  </thead>\n",
       "  <tbody>\n",
       "    <tr>\n",
       "      <th>0</th>\n",
       "      <td>Random Forest Classifier</td>\n",
       "      <td>{'bootstrap': True, 'ccp_alpha': 0.0, 'class_w...</td>\n",
       "      <td>0.496533</td>\n",
       "      <td>0.251262</td>\n",
       "    </tr>\n",
       "  </tbody>\n",
       "</table>\n",
       "</div>"
      ],
      "text/plain": [
       "      Classification Method  \\\n",
       "0  Random Forest Classifier   \n",
       "\n",
       "                                          Parameters  Train Accuracy  \\\n",
       "0  {'bootstrap': True, 'ccp_alpha': 0.0, 'class_w...        0.496533   \n",
       "\n",
       "   Test Accuracy  \n",
       "0       0.251262  "
      ]
     },
     "metadata": {},
     "output_type": "display_data"
    },
    {
     "name": "stdout",
     "output_type": "stream",
     "text": [
      "\n",
      "              precision    recall  f1-score   support\n",
      "\n",
      "         ant       0.00      0.00      0.00       971\n",
      "       apple       0.19      0.60      0.29     19793\n",
      "         arm       0.31      0.15      0.20     13605\n",
      "   asparagus       0.35      0.51      0.42     13804\n",
      "      banana       0.30      0.66      0.41     34167\n",
      "         bat       0.21      0.15      0.17     10929\n",
      "        bear       0.15      0.02      0.03      9597\n",
      "         bee       0.12      0.02      0.03      4926\n",
      "        bird       0.00      0.00      0.00      7049\n",
      "  blackberry       0.25      0.22      0.23      7623\n",
      "   blueberry       0.29      0.01      0.01      5258\n",
      "       brain       0.21      0.27      0.23     19640\n",
      "    broccoli       0.24      0.39      0.30     10791\n",
      "   butterfly       0.35      0.19      0.24      8412\n",
      "      carrot       0.32      0.34      0.33     11530\n",
      "         cat       0.25      0.10      0.14      8124\n",
      "         cow       0.13      0.00      0.01     10216\n",
      "        crab       0.11      0.03      0.04      8567\n",
      "   crocodile       0.20      0.48      0.28     16233\n",
      "         dog       0.12      0.00      0.00     10626\n",
      "     dolphin       0.20      0.11      0.14     15512\n",
      "        duck       0.31      0.57      0.40     21695\n",
      "         ear       0.24      0.46      0.31      8705\n",
      "       elbow       0.36      0.07      0.12      7144\n",
      "    elephant       0.35      0.22      0.27     16414\n",
      "         eye       0.20      0.13      0.16      6747\n",
      "        face       0.18      0.42      0.25     14305\n",
      "     feather       0.25      0.04      0.07      5230\n",
      "      finger       0.28      0.57      0.38     12687\n",
      "        fish       0.28      0.60      0.38     24160\n",
      "      flower       0.41      0.10      0.17      6765\n",
      "        frog       0.13      0.00      0.01     10897\n",
      "      garden       0.38      0.21      0.27      7971\n",
      "     giraffe       0.30      0.26      0.28     13385\n",
      "      goatee       0.17      0.16      0.17     14066\n",
      "      grapes       0.45      0.02      0.03      1252\n",
      "       grass       0.37      0.71      0.49     10348\n",
      "    hedgehog       0.12      0.00      0.01      8470\n",
      "       horse       0.18      0.26      0.21     19256\n",
      " house plant       0.23      0.44      0.30      8393\n",
      "    kangaroo       0.16      0.17      0.16     13719\n",
      "        knee       0.26      0.51      0.35     13099\n",
      "        leaf       0.27      0.20      0.23      9907\n",
      "         leg       0.31      0.36      0.33      9900\n",
      "        lion       0.24      0.01      0.01      9045\n",
      "     lobster       0.20      0.00      0.00     10817\n",
      "      monkey       0.10      0.02      0.03      5413\n",
      "    mosquito       0.00      0.00      0.00      2456\n",
      "       mouse       0.12      0.01      0.03     11356\n",
      "   moustache       0.26      0.36      0.30     17065\n",
      "       mouth       0.20      0.37      0.26     12972\n",
      "        nail       0.43      0.01      0.01      5099\n",
      "        nose       0.41      0.36      0.38      8467\n",
      "       onion       0.23      0.29      0.26     14246\n",
      "         owl       0.17      0.06      0.09     12010\n",
      "   palm tree       0.37      0.18      0.25      5912\n",
      "       panda       0.09      0.02      0.03      8029\n",
      "      parrot       0.26      0.04      0.07     10113\n",
      "      peanut       0.28      0.22      0.25     17239\n",
      "        peas       0.32      0.00      0.00      4853\n",
      "     penguin       0.24      0.23      0.23     20201\n",
      "         pig       0.07      0.01      0.02      9142\n",
      "      rabbit       0.37      0.33      0.34     10674\n",
      "     raccoon       0.14      0.00      0.00      8993\n",
      "  rhinoceros       0.16      0.08      0.11     17861\n",
      "    scorpion       0.29      0.14      0.19     10527\n",
      "  sea turtle       0.18      0.01      0.02      9494\n",
      "       shark       0.23      0.17      0.20     15580\n",
      "       sheep       0.22      0.25      0.23     14785\n",
      "       skull       0.30      0.43      0.35     17419\n",
      "       snail       0.27      0.44      0.33     17132\n",
      "       snake       0.28      0.30      0.29     17506\n",
      "      spider       0.13      0.01      0.02      6159\n",
      "    squirrel       0.24      0.10      0.14     10962\n",
      "  strawberry       0.22      0.18      0.20     11559\n",
      "        swan       0.26      0.21      0.23     18630\n",
      "       tiger       0.10      0.00      0.01      9610\n",
      "         toe       0.26      0.15      0.19     11594\n",
      "        tree       0.35      0.26      0.30      7146\n",
      "  watermelon       0.24      0.20      0.22     16188\n",
      "       whale       0.19      0.20      0.20     18725\n",
      "       zebra       0.18      0.09      0.12     16618\n",
      "\n",
      "    accuracy                           0.25    963485\n",
      "   macro avg       0.23      0.20      0.18    963485\n",
      "weighted avg       0.24      0.25      0.21    963485\n",
      "\n"
     ]
    }
   ],
   "source": [
    "mod1 = RandomForestClassifier(n_estimators=100,\n",
    "                              criterion='gini',\n",
    "                              max_depth=18,\n",
    "                              max_features='auto',\n",
    "                              n_jobs=-1,\n",
    "                              random_state=42)\n",
    "\n",
    "df_eval, _crdict = validate_clf(df, mod1, df_eval)"
   ]
  },
  {
   "cell_type": "markdown",
   "metadata": {},
   "source": [
    "<center><b>Table 4. Model Classification Results Without Grouping.</b></center>"
   ]
  },
  {
   "cell_type": "markdown",
   "metadata": {},
   "source": [
    "To benchmark on how well our model performs, we computed for the Proportional Chance Criterion (PCC). Our model's accuracy of 25.13% is higher than 1.25xPCC at 2.11%."
   ]
  },
  {
   "cell_type": "markdown",
   "metadata": {},
   "source": [
    "#### PCC (sum of squared proportions)"
   ]
  },
  {
   "cell_type": "code",
   "execution_count": 47,
   "metadata": {
    "ExecuteTime": {
     "end_time": "2021-01-25T05:52:48.233465Z",
     "start_time": "2021-01-25T05:52:47.710347Z"
    }
   },
   "outputs": [
    {
     "name": "stdout",
     "output_type": "stream",
     "text": [
      "[all items] PCC = 0.014770756235332954\n"
     ]
    }
   ],
   "source": [
    "# ALL\n",
    "pcc = sum(((np.array(df.word.value_counts().values)) /\n",
    "           df.word.value_counts().sum())**2)\n",
    "\n",
    "print(\"[all items] PCC =\", pcc)"
   ]
  },
  {
   "cell_type": "code",
   "execution_count": 48,
   "metadata": {
    "ExecuteTime": {
     "end_time": "2021-01-25T05:53:00.529505Z",
     "start_time": "2021-01-25T05:53:00.521503Z"
    }
   },
   "outputs": [
    {
     "name": "stdout",
     "output_type": "stream",
     "text": [
      "[all items] 1.25*PCC = 0.021054705196165924\n"
     ]
    }
   ],
   "source": [
    "print(\"[all items] 1.25*PCC =\", 1.25*pcc)"
   ]
  },
  {
   "cell_type": "markdown",
   "metadata": {},
   "source": [
    "## 4. Grouping objects based on f-1 score"
   ]
  },
  {
   "cell_type": "markdown",
   "metadata": {},
   "source": [
    "Even though our model already outperforms the 1.25 PCC, we also explored how to further improve its performance by grouping the categories that resulted to an f-1 score lower than 0.3. This evaluation metric was chosen as the basis for grouping as it accounts for both precision and recall which is its harmonic mean. The choice of f-1 score threshold is arbitrary. The intuition behind such action is that some classes have low f-1 score which means that first stroke sketches under such classes might be difficult to identify. Thus, they are wrongly classified to be under other classes. This also affects the f-1 score of other classes. Hence, placing classes with low f-1 score into a single placeholder may mitigate the issue of numerous wrongly classified sketches."
   ]
  },
  {
   "cell_type": "markdown",
   "metadata": {},
   "source": [
    "### Identifying objects with f-1 score < 0.3 based on results of previous classifier\n",
    "After identifying all those objects that have f-1 score lower than 0.3, we tag them as `others` in the `word` columns."
   ]
  },
  {
   "cell_type": "code",
   "execution_count": 50,
   "metadata": {
    "ExecuteTime": {
     "end_time": "2021-01-25T05:53:37.471882Z",
     "start_time": "2021-01-25T05:53:37.463881Z"
    },
    "scrolled": false
   },
   "outputs": [
    {
     "name": "stdout",
     "output_type": "stream",
     "text": [
      "65\n"
     ]
    },
    {
     "data": {
      "text/plain": [
       "['ant',\n",
       " 'apple',\n",
       " 'arm',\n",
       " 'bat',\n",
       " 'bear',\n",
       " 'bee',\n",
       " 'bird',\n",
       " 'blackberry',\n",
       " 'blueberry',\n",
       " 'brain',\n",
       " 'broccoli',\n",
       " 'butterfly',\n",
       " 'cat',\n",
       " 'cow',\n",
       " 'crab',\n",
       " 'crocodile',\n",
       " 'dog',\n",
       " 'dolphin',\n",
       " 'elbow',\n",
       " 'elephant',\n",
       " 'eye',\n",
       " 'face',\n",
       " 'feather',\n",
       " 'flower',\n",
       " 'frog',\n",
       " 'garden',\n",
       " 'giraffe',\n",
       " 'goatee',\n",
       " 'grapes',\n",
       " 'hedgehog',\n",
       " 'horse',\n",
       " 'kangaroo',\n",
       " 'leaf',\n",
       " 'lion',\n",
       " 'lobster',\n",
       " 'monkey',\n",
       " 'mosquito',\n",
       " 'mouse',\n",
       " 'mouth',\n",
       " 'nail',\n",
       " 'onion',\n",
       " 'owl',\n",
       " 'palm tree',\n",
       " 'panda',\n",
       " 'parrot',\n",
       " 'peanut',\n",
       " 'peas',\n",
       " 'penguin',\n",
       " 'pig',\n",
       " 'raccoon',\n",
       " 'rhinoceros',\n",
       " 'scorpion',\n",
       " 'sea turtle',\n",
       " 'shark',\n",
       " 'sheep',\n",
       " 'snake',\n",
       " 'spider',\n",
       " 'squirrel',\n",
       " 'strawberry',\n",
       " 'swan',\n",
       " 'tiger',\n",
       " 'toe',\n",
       " 'tree',\n",
       " 'watermelon',\n",
       " 'whale']"
      ]
     },
     "execution_count": 50,
     "metadata": {},
     "output_type": "execute_result"
    }
   ],
   "source": [
    "others = [x for x,y in list(_crdict.items())[:81] if y['f1-score'] < 0.3]\n",
    "print(len(others))\n",
    "others"
   ]
  },
  {
   "cell_type": "code",
   "execution_count": 52,
   "metadata": {
    "ExecuteTime": {
     "end_time": "2021-01-25T05:54:16.099316Z",
     "start_time": "2021-01-25T05:54:10.005504Z"
    },
    "scrolled": false
   },
   "outputs": [
    {
     "data": {
      "text/html": [
       "<div>\n",
       "<style scoped>\n",
       "    .dataframe tbody tr th:only-of-type {\n",
       "        vertical-align: middle;\n",
       "    }\n",
       "\n",
       "    .dataframe tbody tr th {\n",
       "        vertical-align: top;\n",
       "    }\n",
       "\n",
       "    .dataframe thead th {\n",
       "        text-align: right;\n",
       "    }\n",
       "</style>\n",
       "<table border=\"1\" class=\"dataframe\">\n",
       "  <thead>\n",
       "    <tr style=\"text-align: right;\">\n",
       "      <th></th>\n",
       "      <th>countrycode</th>\n",
       "      <th>recognized</th>\n",
       "      <th>word</th>\n",
       "      <th>stroke_num</th>\n",
       "      <th>stroke_length</th>\n",
       "      <th>x_0</th>\n",
       "      <th>x_1</th>\n",
       "      <th>x_2</th>\n",
       "      <th>x_3</th>\n",
       "      <th>x_4</th>\n",
       "      <th>...</th>\n",
       "      <th>y_76</th>\n",
       "      <th>y_77</th>\n",
       "      <th>y_78</th>\n",
       "      <th>y_79</th>\n",
       "      <th>y_80</th>\n",
       "      <th>y_81</th>\n",
       "      <th>y_82</th>\n",
       "      <th>y_83</th>\n",
       "      <th>y_84</th>\n",
       "      <th>y_85</th>\n",
       "    </tr>\n",
       "  </thead>\n",
       "  <tbody>\n",
       "    <tr>\n",
       "      <th>0</th>\n",
       "      <td>US</td>\n",
       "      <td>1</td>\n",
       "      <td>others</td>\n",
       "      <td>11</td>\n",
       "      <td>106</td>\n",
       "      <td>970</td>\n",
       "      <td>965</td>\n",
       "      <td>960</td>\n",
       "      <td>955</td>\n",
       "      <td>950</td>\n",
       "      <td>...</td>\n",
       "      <td>477</td>\n",
       "      <td>476</td>\n",
       "      <td>475</td>\n",
       "      <td>472</td>\n",
       "      <td>469</td>\n",
       "      <td>466</td>\n",
       "      <td>463</td>\n",
       "      <td>460</td>\n",
       "      <td>455</td>\n",
       "      <td>450</td>\n",
       "    </tr>\n",
       "    <tr>\n",
       "      <th>1</th>\n",
       "      <td>IT</td>\n",
       "      <td>0</td>\n",
       "      <td>others</td>\n",
       "      <td>2</td>\n",
       "      <td>682</td>\n",
       "      <td>1460</td>\n",
       "      <td>1456</td>\n",
       "      <td>1453</td>\n",
       "      <td>1449</td>\n",
       "      <td>1446</td>\n",
       "      <td>...</td>\n",
       "      <td>1609</td>\n",
       "      <td>1621</td>\n",
       "      <td>1634</td>\n",
       "      <td>1643</td>\n",
       "      <td>1656</td>\n",
       "      <td>1673</td>\n",
       "      <td>1690</td>\n",
       "      <td>1707</td>\n",
       "      <td>1724</td>\n",
       "      <td>1737</td>\n",
       "    </tr>\n",
       "    <tr>\n",
       "      <th>2</th>\n",
       "      <td>US</td>\n",
       "      <td>1</td>\n",
       "      <td>others</td>\n",
       "      <td>7</td>\n",
       "      <td>95</td>\n",
       "      <td>344</td>\n",
       "      <td>339</td>\n",
       "      <td>332</td>\n",
       "      <td>327</td>\n",
       "      <td>321</td>\n",
       "      <td>...</td>\n",
       "      <td>193</td>\n",
       "      <td>193</td>\n",
       "      <td>193</td>\n",
       "      <td>193</td>\n",
       "      <td>193</td>\n",
       "      <td>193</td>\n",
       "      <td>193</td>\n",
       "      <td>193</td>\n",
       "      <td>193</td>\n",
       "      <td>195</td>\n",
       "    </tr>\n",
       "    <tr>\n",
       "      <th>3</th>\n",
       "      <td>ID</td>\n",
       "      <td>1</td>\n",
       "      <td>others</td>\n",
       "      <td>12</td>\n",
       "      <td>299</td>\n",
       "      <td>707</td>\n",
       "      <td>704</td>\n",
       "      <td>699</td>\n",
       "      <td>694</td>\n",
       "      <td>689</td>\n",
       "      <td>...</td>\n",
       "      <td>292</td>\n",
       "      <td>287</td>\n",
       "      <td>282</td>\n",
       "      <td>277</td>\n",
       "      <td>276</td>\n",
       "      <td>276</td>\n",
       "      <td>280</td>\n",
       "      <td>285</td>\n",
       "      <td>291</td>\n",
       "      <td>296</td>\n",
       "    </tr>\n",
       "    <tr>\n",
       "      <th>4</th>\n",
       "      <td>PT</td>\n",
       "      <td>1</td>\n",
       "      <td>others</td>\n",
       "      <td>8</td>\n",
       "      <td>86</td>\n",
       "      <td>898</td>\n",
       "      <td>893</td>\n",
       "      <td>885</td>\n",
       "      <td>880</td>\n",
       "      <td>871</td>\n",
       "      <td>...</td>\n",
       "      <td>350</td>\n",
       "      <td>350</td>\n",
       "      <td>350</td>\n",
       "      <td>350</td>\n",
       "      <td>350</td>\n",
       "      <td>350</td>\n",
       "      <td>350</td>\n",
       "      <td>350</td>\n",
       "      <td>350</td>\n",
       "      <td>350</td>\n",
       "    </tr>\n",
       "  </tbody>\n",
       "</table>\n",
       "<p>5 rows × 177 columns</p>\n",
       "</div>"
      ],
      "text/plain": [
       "  countrycode  recognized    word  stroke_num  stroke_length   x_0   x_1  \\\n",
       "0          US           1  others          11            106   970   965   \n",
       "1          IT           0  others           2            682  1460  1456   \n",
       "2          US           1  others           7             95   344   339   \n",
       "3          ID           1  others          12            299   707   704   \n",
       "4          PT           1  others           8             86   898   893   \n",
       "\n",
       "    x_2   x_3   x_4  ...  y_76  y_77  y_78  y_79  y_80  y_81  y_82  y_83  \\\n",
       "0   960   955   950  ...   477   476   475   472   469   466   463   460   \n",
       "1  1453  1449  1446  ...  1609  1621  1634  1643  1656  1673  1690  1707   \n",
       "2   332   327   321  ...   193   193   193   193   193   193   193   193   \n",
       "3   699   694   689  ...   292   287   282   277   276   276   280   285   \n",
       "4   885   880   871  ...   350   350   350   350   350   350   350   350   \n",
       "\n",
       "   y_84  y_85  \n",
       "0   455   450  \n",
       "1  1724  1737  \n",
       "2   193   195  \n",
       "3   291   296  \n",
       "4   350   350  \n",
       "\n",
       "[5 rows x 177 columns]"
      ]
     },
     "execution_count": 52,
     "metadata": {},
     "output_type": "execute_result"
    }
   ],
   "source": [
    "df2 = df.replace(others, 'others')\n",
    "df2.head()"
   ]
  },
  {
   "cell_type": "markdown",
   "metadata": {},
   "source": [
    "<center><b>Table 5. Final Dataset with grouping.</b></center>"
   ]
  },
  {
   "cell_type": "markdown",
   "metadata": {},
   "source": [
    "## 5. Improved Sketch Prediction"
   ]
  },
  {
   "cell_type": "markdown",
   "metadata": {},
   "source": [
    "After tagging the objects  under classes with low f-1 score in the previous step as `others`, the number of categories is now **18** including the `others` category.  We then again develop a model using this dataset and the `validate_clf` function to find the performance of the classification model on a *less noisy* data. With this, we arrived at an accuracy of $75.19\\%$, significantly higher than the previous accuracy without grouping. The intuition behind the significant increase in accuracy is that sketches that are hard to classify tend to fall under the `others` class. This means that there are some classes whose elements are recognizable even just with the first stroke."
   ]
  },
  {
   "cell_type": "code",
   "execution_count": 53,
   "metadata": {
    "ExecuteTime": {
     "end_time": "2021-01-25T06:01:30.577321Z",
     "start_time": "2021-01-25T05:54:20.144302Z"
    }
   },
   "outputs": [
    {
     "data": {
      "text/html": [
       "<div>\n",
       "<style scoped>\n",
       "    .dataframe tbody tr th:only-of-type {\n",
       "        vertical-align: middle;\n",
       "    }\n",
       "\n",
       "    .dataframe tbody tr th {\n",
       "        vertical-align: top;\n",
       "    }\n",
       "\n",
       "    .dataframe thead th {\n",
       "        text-align: right;\n",
       "    }\n",
       "</style>\n",
       "<table border=\"1\" class=\"dataframe\">\n",
       "  <thead>\n",
       "    <tr style=\"text-align: right;\">\n",
       "      <th></th>\n",
       "      <th>Classification Method</th>\n",
       "      <th>Parameters</th>\n",
       "      <th>Train Accuracy</th>\n",
       "      <th>Test Accuracy</th>\n",
       "    </tr>\n",
       "  </thead>\n",
       "  <tbody>\n",
       "    <tr>\n",
       "      <th>0</th>\n",
       "      <td>Random Forest Classifier</td>\n",
       "      <td>{'bootstrap': True, 'ccp_alpha': 0.0, 'class_w...</td>\n",
       "      <td>0.496533</td>\n",
       "      <td>0.251262</td>\n",
       "    </tr>\n",
       "    <tr>\n",
       "      <th>1</th>\n",
       "      <td>Random Forest Classifier</td>\n",
       "      <td>{'bootstrap': True, 'ccp_alpha': 0.0, 'class_w...</td>\n",
       "      <td>0.774022</td>\n",
       "      <td>0.751855</td>\n",
       "    </tr>\n",
       "  </tbody>\n",
       "</table>\n",
       "</div>"
      ],
      "text/plain": [
       "      Classification Method  \\\n",
       "0  Random Forest Classifier   \n",
       "1  Random Forest Classifier   \n",
       "\n",
       "                                          Parameters  Train Accuracy  \\\n",
       "0  {'bootstrap': True, 'ccp_alpha': 0.0, 'class_w...        0.496533   \n",
       "1  {'bootstrap': True, 'ccp_alpha': 0.0, 'class_w...        0.774022   \n",
       "\n",
       "   Test Accuracy  \n",
       "0       0.251262  \n",
       "1       0.751855  "
      ]
     },
     "metadata": {},
     "output_type": "display_data"
    },
    {
     "name": "stdout",
     "output_type": "stream",
     "text": [
      "\n",
      "              precision    recall  f1-score   support\n",
      "\n",
      "   asparagus       0.77      0.12      0.21     13804\n",
      "      banana       0.77      0.20      0.31     34167\n",
      "      carrot       0.90      0.02      0.04     11530\n",
      "        duck       1.00      0.01      0.02     21695\n",
      "         ear       0.77      0.01      0.02      8705\n",
      "      finger       0.68      0.10      0.17     12687\n",
      "        fish       0.95      0.10      0.19     24160\n",
      "       grass       0.77      0.30      0.43     10348\n",
      " house plant       0.92      0.01      0.01      8393\n",
      "        knee       0.70      0.06      0.11     13099\n",
      "         leg       0.73      0.06      0.12      9900\n",
      "   moustache       0.93      0.00      0.01     17065\n",
      "        nose       0.95      0.01      0.03      8467\n",
      "      others       0.75      1.00      0.86    707622\n",
      "      rabbit       0.79      0.10      0.17     10674\n",
      "       skull       0.87      0.03      0.06     17419\n",
      "       snail       0.93      0.07      0.13     17132\n",
      "       zebra       0.00      0.00      0.00     16618\n",
      "\n",
      "    accuracy                           0.75    963485\n",
      "   macro avg       0.79      0.12      0.16    963485\n",
      "weighted avg       0.76      0.75      0.66    963485\n",
      "\n"
     ]
    }
   ],
   "source": [
    "df_eval, _crdict = validate_clf(df2, mod1, df_eval)"
   ]
  },
  {
   "cell_type": "markdown",
   "metadata": {},
   "source": [
    "<center><b>Table 6. Model Classification Results with grouping.</b></center>"
   ]
  },
  {
   "cell_type": "markdown",
   "metadata": {},
   "source": [
    "We then computed the new 1.25xPCC of the new set of classes and got $68.13\\%$ . Our model's accuracy still outperforms this at $75.19\\%$ accuracy."
   ]
  },
  {
   "cell_type": "markdown",
   "metadata": {},
   "source": [
    "#### PCC (sum of squared proportions)"
   ]
  },
  {
   "cell_type": "code",
   "execution_count": 57,
   "metadata": {
    "ExecuteTime": {
     "end_time": "2021-01-25T06:02:25.272611Z",
     "start_time": "2021-01-25T06:02:24.789501Z"
    },
    "scrolled": true
   },
   "outputs": [
    {
     "name": "stdout",
     "output_type": "stream",
     "text": [
      "[with placeholder `others`] =  0.5450777586159167\n"
     ]
    }
   ],
   "source": [
    "# with placeholder `others`\n",
    "pcc2 = sum(((np.array(df2.word.value_counts().values)) /\n",
    "           df2.word.value_counts().sum())**2)\n",
    "\n",
    "print(\"[with placeholder `others`] = \", pcc2)"
   ]
  },
  {
   "cell_type": "code",
   "execution_count": 58,
   "metadata": {
    "ExecuteTime": {
     "end_time": "2021-01-25T06:03:07.428354Z",
     "start_time": "2021-01-25T06:03:07.414352Z"
    }
   },
   "outputs": [
    {
     "name": "stdout",
     "output_type": "stream",
     "text": [
      "[all items] 1.25*PCC2 = 0.6813471982698959\n"
     ]
    }
   ],
   "source": [
    "print(\"[all items] 1.25*PCC2 =\", 1.25*pcc2)"
   ]
  },
  {
   "cell_type": "markdown",
   "metadata": {},
   "source": [
    "<div><span style=\"background-color: #1F773B; padding-top: 100px; padding-right: 20px; padding-bottom: 50px; padding-left: 20px; color: #F2FBF5; font-size: 20px; font-weight: bold\">RESULTS & DISCUSSION</span></div>"
   ]
  },
  {
   "cell_type": "markdown",
   "metadata": {},
   "source": [
    "The summary of results of our study with and without grouping can be found on the table below. This shows that our models performs well given that its test accuracy is higher than the $1.25 \\times PCC$ and the *Quick, Draw!* AI for both with and without grouping."
   ]
  },
  {
   "cell_type": "markdown",
   "metadata": {},
   "source": [
    "<center><b>Table 4. Model Results.</b></center>\n",
    "\n",
    "|Evaluation Metric|Without Grouping|With Grouping|\n",
    "|:--|:--|:--|\n",
    "|Model Accuracy|$25.13\\%$|$75.19\\%$|\n",
    "|Quick, Draw! AI| $12.01\\%$|N/A|\n",
    "|$1.25 \\times PCC$|$2.11\\%$|$68.13\\%$|\n"
   ]
  },
  {
   "cell_type": "markdown",
   "metadata": {},
   "source": [
    "Note that the accuracy of the *Quick, Draw!* AI is based on the ratio of the number of recognized sketches in one stroke to the total number of recognized sketches in the data set."
   ]
  },
  {
   "cell_type": "markdown",
   "metadata": {},
   "source": [
    "<div><span style=\"background-color: #1F773B; padding-top: 100px; padding-right: 20px; padding-bottom: 50px; padding-left: 20px; color: #F2FBF5; font-size: 20px; font-weight: bold\">BUSINESS VALUE</span></div>"
   ]
  },
  {
   "cell_type": "markdown",
   "metadata": {},
   "source": [
    "### Future of Sketch Prediction\n",
    "\n",
    "This study can help in developing algorithms that will aid in the future of sketch prediction. Similar to a google search wherein you type some text and give google gives out suggestions, this study can pave the way in using drawing strokes to suggest possible drawings or images in the search."
   ]
  },
  {
   "cell_type": "markdown",
   "metadata": {},
   "source": [
    "### Tool for Online Learning\n",
    "\n",
    "In these times, the pandemic led to an increase in the use of touch devices and smart phones, thus sketch recognition and completion will be beneficial especially for online learning. This will help the educators and students have a better learning experience when conveying their knowledge through sketching on their devices. "
   ]
  },
  {
   "cell_type": "markdown",
   "metadata": {},
   "source": [
    "<div><span style=\"background-color: #1F773B; padding-top: 100px; padding-right: 20px; padding-bottom: 50px; padding-left: 20px; color: #F2FBF5; font-size: 20px; font-weight: bold\">CONCLUSION & RECOMMENDATIONS</span></div>"
   ]
  },
  {
   "cell_type": "markdown",
   "metadata": {},
   "source": [
    "Based on the results, we were able to develop a model that will predict a certain sketch based on first stroke. With an accuracy of 25.13% for without grouping and 75.19% without grouping, our model can predict sketches while outperforming  the 12.01% performance by Quick, Draw!’s AI. With this, we believe that the model can be integrated to Quick, Draw!’s underlying neural network to improve its speed in guessing a sketch.\n",
    "\n",
    "For future studies, we recommend the following:\n",
    "1. Expand the dataset by using other categories on the original dataset.\n",
    "2. Use of different neural networks as model architectures might improve the model's performance.\n",
    "3. Aside from prediction, auto completion of sketches can be explored."
   ]
  },
  {
   "cell_type": "markdown",
   "metadata": {},
   "source": [
    "<div><span style=\"background-color: #1F773B; padding-top: 100px; padding-right: 20px; padding-bottom: 50px; padding-left: 20px; color: #F2FBF5; font-size: 20px; font-weight: bold\">REFERENCES</span></div>"
   ]
  },
  {
   "cell_type": "markdown",
   "metadata": {},
   "source": [
    "[1] Google Crealive Lab. (2017). Quick, Draw! Retrieved from https://experiments.withgoogle.com/quick-draw\n",
    "\n",
    "\n",
    "[2] Kaggle. Quick, Draw! Doodle Recognition Challenge. Retrieved from https://www.kaggle.com/c/quickdraw-doodle-recognition/discussion/73738\n"
   ]
  }
 ],
 "metadata": {
  "kernelspec": {
   "display_name": "Python 3",
   "language": "python",
   "name": "python3"
  },
  "language_info": {
   "codemirror_mode": {
    "name": "ipython",
    "version": 3
   },
   "file_extension": ".py",
   "mimetype": "text/x-python",
   "name": "python",
   "nbconvert_exporter": "python",
   "pygments_lexer": "ipython3",
   "version": "3.8.3"
  },
  "toc": {
   "base_numbering": 1,
   "nav_menu": {},
   "number_sections": true,
   "sideBar": true,
   "skip_h1_title": false,
   "title_cell": "Table of Contents",
   "title_sidebar": "Contents",
   "toc_cell": false,
   "toc_position": {},
   "toc_section_display": true,
   "toc_window_display": false
  }
 },
 "nbformat": 4,
 "nbformat_minor": 2
}
